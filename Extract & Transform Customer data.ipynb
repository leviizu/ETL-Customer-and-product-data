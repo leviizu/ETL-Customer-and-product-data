{
 "cells": [
  {
   "cell_type": "code",
   "execution_count": 1202,
   "id": "82c442d0",
   "metadata": {},
   "outputs": [],
   "source": [
    "import pandas as pd\n",
    "import numpy as np\n",
    "from unidecode import unidecode\n",
    "import phonenumbers \n",
    "import re"
   ]
  },
  {
   "cell_type": "code",
   "execution_count": 1203,
   "id": "b841a7d9",
   "metadata": {},
   "outputs": [],
   "source": [
    "#importing dataset\n",
    "df=pd.read_csv('/Users/levy/Downloads/raw_customer_data.csv',sep=',')"
   ]
  },
  {
   "cell_type": "code",
   "execution_count": 1204,
   "id": "89d5359a",
   "metadata": {
    "scrolled": true
   },
   "outputs": [],
   "source": [
    "pd.set_option('display.float_format', '{:.2f}'.format)\n",
    "pd.set_option('display.max_rows', None)"
   ]
  },
  {
   "cell_type": "code",
   "execution_count": null,
   "id": "f9599b63",
   "metadata": {},
   "outputs": [],
   "source": []
  },
  {
   "cell_type": "code",
   "execution_count": 1205,
   "id": "33b20675",
   "metadata": {},
   "outputs": [],
   "source": [
    "#renaming columns for better comprehension\n",
    "df.columns = ['id', 'full_name', 'phone_number', 'mobile_number','country']"
   ]
  },
  {
   "cell_type": "code",
   "execution_count": 1206,
   "id": "3a755802",
   "metadata": {},
   "outputs": [],
   "source": [
    "# Normalizing non ASCII texts\n",
    "# function to normalize non ascii\n",
    "def normalizing_non_ascii(text):\n",
    "    # Replace non-ASCII characters with their closest ASCII equivalent\n",
    "    text = unidecode(text)\n",
    "    return text\n",
    "#appying/looping normalizing_non_ascii function through the full_name field\n",
    "full_name_edited=[]\n",
    "for rows in df['full_name']:\n",
    "    rt = normalizing_non_ascii(rows)\n",
    "    full_name_edited.append(rt)\n",
    "df['full_name_edited'] = full_name_edited"
   ]
  },
  {
   "cell_type": "code",
   "execution_count": null,
   "id": "7f1ea9f3",
   "metadata": {},
   "outputs": [],
   "source": []
  },
  {
   "cell_type": "code",
   "execution_count": 1207,
   "id": "5a5503d4",
   "metadata": {},
   "outputs": [],
   "source": [
    "# identifying and defining single character replacements\n",
    "replacements = {\n",
    "   'j':'i', '@':'a',  'b':'o', 'y':'b', 'v':'e', 'z':'a', '!':'o', 'x':'s'\n",
    "}\n",
    "# defining function to replace irrelevant characters\n",
    "def replace_characters_single(field):\n",
    "    field=field.replace(replacements, regex=True, inplace=True) \n",
    "    return field\n",
    "#appying replace_character function\n",
    "df['full_name_edited'] = replace_characters_single(df['full_name_edited'])"
   ]
  },
  {
   "cell_type": "code",
   "execution_count": null,
   "id": "a61b841d",
   "metadata": {},
   "outputs": [],
   "source": []
  },
  {
   "cell_type": "code",
   "execution_count": 1208,
   "id": "cd0b59b3",
   "metadata": {},
   "outputs": [],
   "source": [
    "# identifying and defining double character replacements \n",
    "replacements = {\n",
    "   'aa':'za','hb':'hy'}\n",
    "# defining function to replace irrelevant characters\n",
    "def replace_characters_double(field):\n",
    "    field = field.replace(replacements, regex=True, inplace=True) \n",
    "    return field\n",
    "#appying replace_character function\n",
    "df['full_name_edited'] = replace_characters_double(df['full_name_edited'])"
   ]
  },
  {
   "cell_type": "code",
   "execution_count": null,
   "id": "2c60786d",
   "metadata": {},
   "outputs": [],
   "source": []
  },
  {
   "cell_type": "code",
   "execution_count": 1209,
   "id": "98c28817",
   "metadata": {},
   "outputs": [],
   "source": [
    "# removing_number_from_text\n",
    "def removing_number_from_text(dt):\n",
    "    removing_numbers = lambda x: ''.join([i for i in x if not i.isdigit()])\n",
    "    field = dt.apply(removing_numbers) \n",
    "    return field\n",
    "\n",
    "df['full_name_edited'] = df['full_name_edited'].apply(removing_number_from_text)    "
   ]
  },
  {
   "cell_type": "code",
   "execution_count": 1210,
   "id": "5d43e005",
   "metadata": {},
   "outputs": [
    {
     "data": {
      "text/plain": [
       "id                   object\n",
       "full_name            object\n",
       "phone_number         object\n",
       "mobile_number       float64\n",
       "country              object\n",
       "full_name_edited     object\n",
       "dtype: object"
      ]
     },
     "execution_count": 1210,
     "metadata": {},
     "output_type": "execute_result"
    }
   ],
   "source": [
    "df.dtypes"
   ]
  },
  {
   "cell_type": "code",
   "execution_count": 1211,
   "id": "bcd81f42",
   "metadata": {},
   "outputs": [],
   "source": [
    "# Capitalizing only the first letter of names\n",
    "def capitalize_first_char(field):\n",
    "    field=field.str.lower().str.title()\n",
    "    return field\n",
    "df['full_name_edited']=capitalize_first_char(df['full_name_edited'])\n"
   ]
  },
  {
   "cell_type": "code",
   "execution_count": null,
   "id": "59f4b79a",
   "metadata": {},
   "outputs": [],
   "source": [
    "# Define a function to validate phone numbers\n",
    "def validate_phone(row):\n",
    "    try:\n",
    "        parsed =phonenumbers.parse(row['phone_number'], row['country'])\n",
    "        if phonenumbers.is_possible_number(parsed) == True:\n",
    "            # did not phonenumbers.PhoneNumberType.FIXED_LINE because fixed line and mobile tend to be mixed up \n",
    "            return pn.format_number(pn.parse(row['phone_number'], row['country']), pn.PhoneNumberFormat.NATIONAL)\n",
    "        else:\n",
    "            return None\n",
    "    except phonenumbers.phonenumberutil.NumberParseException:\n",
    "        return None\n",
    "\n",
    "# Apply the function to the Phone and Country columns and create a new column for the results\n",
    "df['phone_number_edited'] = df.apply(validate_phone, axis=1)\n"
   ]
  },
  {
   "cell_type": "code",
   "execution_count": null,
   "id": "1e426e22",
   "metadata": {},
   "outputs": [],
   "source": [
    "# Define a function to validate mobile numbers\n",
    "def validate_mobile(row):\n",
    "    if row['mobile_number']!= np.nan:\n",
    "        try:\n",
    "            parsed = phonenumbers.parse(str(row['mobile_number']).split('.')[0], row['country'])\n",
    "            if phonenumbers.is_possible_number(parsed) == True:\n",
    "                return pn.format_number(pn.parse(str(row['mobile_number']).split('.')[0], row['country']), pn.PhoneNumberFormat.NATIONAL)\n",
    "            else:\n",
    "                return None\n",
    "        #not applying phonenumbers.PhoneNumberType.MOBILE because it coud be mixed with fixed line during reg\n",
    "        except phonenumbers.phonenumberutil.NumberParseException:\n",
    "            return None\n",
    "    else:\n",
    "        return None\n",
    "# Apply the validation function to the DataFrame\n",
    "df['mobile_number_edited'] = df.apply(validate_mobile, axis=1)\n",
    "\n",
    "# Print the updated DataFrame\n",
    "df\n"
   ]
  },
  {
   "cell_type": "code",
   "execution_count": 1214,
   "id": "48e141e7",
   "metadata": {},
   "outputs": [],
   "source": [
    "def remove_white_space(field):\n",
    "    field=field.str.strip()\n",
    "    return field\n",
    "df['full_name_edited']=remove_white_space(df['full_name_edited'])\n",
    "df['phone_number_edited']=remove_white_space(df['phone_number_edited'])\n",
    "df['mobile_number_edited']=remove_white_space(df['mobile_number_edited'])"
   ]
  },
  {
   "cell_type": "code",
   "execution_count": 1215,
   "id": "8e4003b2",
   "metadata": {},
   "outputs": [
    {
     "data": {
      "text/plain": [
       "0"
      ]
     },
     "execution_count": 1215,
     "metadata": {},
     "output_type": "execute_result"
    }
   ],
   "source": [
    "df.duplicated().sum()"
   ]
  },
  {
   "cell_type": "code",
   "execution_count": 1216,
   "id": "7f1bcc85",
   "metadata": {},
   "outputs": [
    {
     "data": {
      "text/plain": [
       "id                       object\n",
       "full_name                object\n",
       "phone_number             object\n",
       "mobile_number           float64\n",
       "country                  object\n",
       "full_name_edited         object\n",
       "phone_number_edited      object\n",
       "mobile_number_edited     object\n",
       "dtype: object"
      ]
     },
     "execution_count": 1216,
     "metadata": {},
     "output_type": "execute_result"
    }
   ],
   "source": [
    "df.dtypes"
   ]
  },
  {
   "cell_type": "code",
   "execution_count": null,
   "id": "2f30c2ee",
   "metadata": {},
   "outputs": [],
   "source": []
  },
  {
   "cell_type": "code",
   "execution_count": 1217,
   "id": "e317b053",
   "metadata": {},
   "outputs": [],
   "source": [
    "df=df.drop(['full_name','phone_number','mobile_number'], axis=1)"
   ]
  },
  {
   "cell_type": "code",
   "execution_count": 1218,
   "id": "8fa736cd",
   "metadata": {},
   "outputs": [],
   "source": [
    "df.rename(columns={'full_name_edited':'full_name', 'phone_number_edited':'phone_number',\\\n",
    "              'mobile_number_edited':'mobile_number'},inplace=True)"
   ]
  },
  {
   "cell_type": "code",
   "execution_count": 1181,
   "id": "b5c24652",
   "metadata": {},
   "outputs": [],
   "source": [
    "df.to_excel('/Users/levy/Documents/clarius_cx.xlsx',index=False)"
   ]
  },
  {
   "cell_type": "code",
   "execution_count": null,
   "id": "2335f4ec",
   "metadata": {},
   "outputs": [],
   "source": []
  },
  {
   "cell_type": "code",
   "execution_count": null,
   "id": "d7bf4012",
   "metadata": {},
   "outputs": [],
   "source": []
  }
 ],
 "metadata": {
  "kernelspec": {
   "display_name": "Python 3 (ipykernel)",
   "language": "python",
   "name": "python3"
  },
  "language_info": {
   "codemirror_mode": {
    "name": "ipython",
    "version": 3
   },
   "file_extension": ".py",
   "mimetype": "text/x-python",
   "name": "python",
   "nbconvert_exporter": "python",
   "pygments_lexer": "ipython3",
   "version": "3.11.3"
  }
 },
 "nbformat": 4,
 "nbformat_minor": 5
}
